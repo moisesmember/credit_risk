{
 "cells": [
  {
   "cell_type": "markdown",
   "id": "d4713e6e",
   "metadata": {},
   "source": [
    "## Análise sobre Crédito de Risco"
   ]
  },
  {
   "cell_type": "markdown",
   "id": "766c1edc",
   "metadata": {},
   "source": [
    "##### Columns\n",
    "\n",
    "- Feature Name:\t            Description\n",
    "- person_age:\t            Idade\n",
    "- person_income: \t        Renda Anual\n",
    "- personhomeownership:\t    Propriedade residencial\n",
    "- personemplength:     \t    Tempo de trabalho (em anos)\n",
    "- loan_intent:         \t    Intenção de empréstimo\n",
    "- loan_grade:         \t    Grau de empréstimo\n",
    "- loan_amnt:          \t    Valor do empréstimo\n",
    "- loanintrate:        \t    Taxa de juros\n",
    "- loan_status:        \t    Status do empréstimo (0 não é padrão 1 é padrão)\n",
    "- loanpercentincome:  \t    Porcentagem de renda\n",
    "- cbpersondefaultonfile:\tPadrão histórico\n",
    "- cbpresoncredhistlength:\tDuração da história do crédito"
   ]
  },
  {
   "cell_type": "code",
   "execution_count": 5,
   "id": "d0218e72",
   "metadata": {},
   "outputs": [],
   "source": [
    "#!pip install missingno"
   ]
  },
  {
   "cell_type": "code",
   "execution_count": 76,
   "id": "f1b0fc46",
   "metadata": {},
   "outputs": [],
   "source": [
    "import pandas as pd\n",
    "import numpy as np\n",
    "import seaborn as sns\n",
    "import missingno as msno\n",
    "import pickle\n",
    "import matplotlib.pyplot as plt\n",
    "from sklearn.preprocessing import StandardScaler\n",
    "from sklearn.model_selection import train_test_split\n",
    "from sklearn.preprocessing import LabelEncoder"
   ]
  },
  {
   "cell_type": "code",
   "execution_count": 3,
   "id": "40ad6f0f",
   "metadata": {},
   "outputs": [],
   "source": [
    "credit = pd.read_csv('data/credit_risk_dataset.csv')"
   ]
  },
  {
   "cell_type": "code",
   "execution_count": 8,
   "id": "242fb0b2",
   "metadata": {},
   "outputs": [],
   "source": [
    "credit_old = credit.copy()\n",
    "\n",
    "# Exclui colunas\n",
    "credit.drop(columns={'person_home_ownership','person_emp_length','loan_intent','loan_grade',\n",
    "                     'loan_int_rate','loan_status','loan_percent_income','cb_person_cred_hist_length'}\n",
    "                    ,inplace=True)\n",
    "\n",
    "# Renomei as colunas\n",
    "credit.rename(columns = {'person_age': 'age', 'person_income':'income', \n",
    "                        'loan_amnt':'loan', 'cb_person_default_on_file': 'default'}, inplace=True)\n",
    "\n",
    "credit.loc[credit['default'] == 'Y', 'default'] = 1\n",
    "credit.loc[credit['default'] == 'N', 'default'] = 0"
   ]
  },
  {
   "cell_type": "code",
   "execution_count": 37,
   "id": "2daef353",
   "metadata": {},
   "outputs": [
    {
     "data": {
      "text/html": [
       "<div>\n",
       "<style scoped>\n",
       "    .dataframe tbody tr th:only-of-type {\n",
       "        vertical-align: middle;\n",
       "    }\n",
       "\n",
       "    .dataframe tbody tr th {\n",
       "        vertical-align: top;\n",
       "    }\n",
       "\n",
       "    .dataframe thead th {\n",
       "        text-align: right;\n",
       "    }\n",
       "</style>\n",
       "<table border=\"1\" class=\"dataframe\">\n",
       "  <thead>\n",
       "    <tr style=\"text-align: right;\">\n",
       "      <th></th>\n",
       "      <th>age</th>\n",
       "      <th>income</th>\n",
       "      <th>loan</th>\n",
       "      <th>default</th>\n",
       "    </tr>\n",
       "  </thead>\n",
       "  <tbody>\n",
       "    <tr>\n",
       "      <th>0</th>\n",
       "      <td>22</td>\n",
       "      <td>59000</td>\n",
       "      <td>35000</td>\n",
       "      <td>1</td>\n",
       "    </tr>\n",
       "    <tr>\n",
       "      <th>1</th>\n",
       "      <td>21</td>\n",
       "      <td>9600</td>\n",
       "      <td>1000</td>\n",
       "      <td>0</td>\n",
       "    </tr>\n",
       "    <tr>\n",
       "      <th>2</th>\n",
       "      <td>25</td>\n",
       "      <td>9600</td>\n",
       "      <td>5500</td>\n",
       "      <td>0</td>\n",
       "    </tr>\n",
       "    <tr>\n",
       "      <th>3</th>\n",
       "      <td>23</td>\n",
       "      <td>65500</td>\n",
       "      <td>35000</td>\n",
       "      <td>0</td>\n",
       "    </tr>\n",
       "    <tr>\n",
       "      <th>4</th>\n",
       "      <td>24</td>\n",
       "      <td>54400</td>\n",
       "      <td>35000</td>\n",
       "      <td>1</td>\n",
       "    </tr>\n",
       "    <tr>\n",
       "      <th>...</th>\n",
       "      <td>...</td>\n",
       "      <td>...</td>\n",
       "      <td>...</td>\n",
       "      <td>...</td>\n",
       "    </tr>\n",
       "    <tr>\n",
       "      <th>32576</th>\n",
       "      <td>57</td>\n",
       "      <td>53000</td>\n",
       "      <td>5800</td>\n",
       "      <td>0</td>\n",
       "    </tr>\n",
       "    <tr>\n",
       "      <th>32577</th>\n",
       "      <td>54</td>\n",
       "      <td>120000</td>\n",
       "      <td>17625</td>\n",
       "      <td>0</td>\n",
       "    </tr>\n",
       "    <tr>\n",
       "      <th>32578</th>\n",
       "      <td>65</td>\n",
       "      <td>76000</td>\n",
       "      <td>35000</td>\n",
       "      <td>0</td>\n",
       "    </tr>\n",
       "    <tr>\n",
       "      <th>32579</th>\n",
       "      <td>56</td>\n",
       "      <td>150000</td>\n",
       "      <td>15000</td>\n",
       "      <td>0</td>\n",
       "    </tr>\n",
       "    <tr>\n",
       "      <th>32580</th>\n",
       "      <td>66</td>\n",
       "      <td>42000</td>\n",
       "      <td>6475</td>\n",
       "      <td>0</td>\n",
       "    </tr>\n",
       "  </tbody>\n",
       "</table>\n",
       "<p>32581 rows × 4 columns</p>\n",
       "</div>"
      ],
      "text/plain": [
       "       age  income   loan default\n",
       "0       22   59000  35000       1\n",
       "1       21    9600   1000       0\n",
       "2       25    9600   5500       0\n",
       "3       23   65500  35000       0\n",
       "4       24   54400  35000       1\n",
       "...    ...     ...    ...     ...\n",
       "32576   57   53000   5800       0\n",
       "32577   54  120000  17625       0\n",
       "32578   65   76000  35000       0\n",
       "32579   56  150000  15000       0\n",
       "32580   66   42000   6475       0\n",
       "\n",
       "[32581 rows x 4 columns]"
      ]
     },
     "execution_count": 37,
     "metadata": {},
     "output_type": "execute_result"
    }
   ],
   "source": [
    "credit"
   ]
  },
  {
   "cell_type": "code",
   "execution_count": 38,
   "id": "b8ced4fe",
   "metadata": {},
   "outputs": [
    {
     "name": "stdout",
     "output_type": "stream",
     "text": [
      "<class 'pandas.core.frame.DataFrame'>\n",
      "RangeIndex: 32581 entries, 0 to 32580\n",
      "Data columns (total 4 columns):\n",
      " #   Column   Non-Null Count  Dtype \n",
      "---  ------   --------------  ----- \n",
      " 0   age      32581 non-null  int64 \n",
      " 1   income   32581 non-null  int64 \n",
      " 2   loan     32581 non-null  int64 \n",
      " 3   default  32581 non-null  object\n",
      "dtypes: int64(3), object(1)\n",
      "memory usage: 1018.3+ KB\n"
     ]
    }
   ],
   "source": [
    "credit.info()"
   ]
  },
  {
   "cell_type": "markdown",
   "id": "6c844055",
   "metadata": {},
   "source": [
    "### Dados ausentes"
   ]
  },
  {
   "cell_type": "code",
   "execution_count": 39,
   "id": "57c6c5db",
   "metadata": {},
   "outputs": [
    {
     "name": "stdout",
     "output_type": "stream",
     "text": [
      "age        0.0\n",
      "income     0.0\n",
      "loan       0.0\n",
      "default    0.0\n",
      "dtype: float64\n"
     ]
    },
    {
     "data": {
      "image/png": "[encoded data removed]",
      "text/plain": [
       "<Figure size 1800x720 with 2 Axes>"
      ]
     },
     "metadata": {
      "needs_background": "light"
     },
     "output_type": "display_data"
    }
   ],
   "source": [
    "#print(np.unique(credit['Saving_accounts'], return_counts=True))\n",
    "print(credit.isnull().mean() * 100)\n",
    "\n",
    "ax = msno.matrix(credit)\n",
    "ax.get_figure().savefig(\"mlpr.png\")"
   ]
  },
  {
   "cell_type": "markdown",
   "id": "e2978242",
   "metadata": {},
   "source": [
    "### Inputando valores nas colunas vazias"
   ]
  },
  {
   "cell_type": "code",
   "execution_count": 40,
   "id": "0c3f1bf6",
   "metadata": {},
   "outputs": [],
   "source": [
    "# Acrescenta coluna informativa: ausência de dados\n",
    "def add_indicador(col):\n",
    "    def wrapper(df):\n",
    "        return df[col].isna().astype(int)\n",
    "\n",
    "    return wrapper"
   ]
  },
  {
   "cell_type": "code",
   "execution_count": 41,
   "id": "54d60514",
   "metadata": {},
   "outputs": [],
   "source": [
    "credit = credit.assign(\n",
    "    default_missing=add_indicador(\"default\")\n",
    ")"
   ]
  },
  {
   "cell_type": "code",
   "execution_count": 66,
   "id": "4a22d77d",
   "metadata": {},
   "outputs": [],
   "source": [
    "#credit.fillna({'Saving_accounts':'unknown', 'Checking_account':'unknown'}, inplace=True) # Inputa valor a coluna"
   ]
  },
  {
   "cell_type": "code",
   "execution_count": 42,
   "id": "321135d8",
   "metadata": {},
   "outputs": [
    {
     "data": {
      "text/html": [
       "<div>\n",
       "<style scoped>\n",
       "    .dataframe tbody tr th:only-of-type {\n",
       "        vertical-align: middle;\n",
       "    }\n",
       "\n",
       "    .dataframe tbody tr th {\n",
       "        vertical-align: top;\n",
       "    }\n",
       "\n",
       "    .dataframe thead th {\n",
       "        text-align: right;\n",
       "    }\n",
       "</style>\n",
       "<table border=\"1\" class=\"dataframe\">\n",
       "  <thead>\n",
       "    <tr style=\"text-align: right;\">\n",
       "      <th></th>\n",
       "      <th>age</th>\n",
       "      <th>income</th>\n",
       "      <th>loan</th>\n",
       "      <th>default</th>\n",
       "      <th>age_missing</th>\n",
       "    </tr>\n",
       "  </thead>\n",
       "  <tbody>\n",
       "    <tr>\n",
       "      <th>0</th>\n",
       "      <td>22</td>\n",
       "      <td>59000</td>\n",
       "      <td>35000</td>\n",
       "      <td>1</td>\n",
       "      <td>0</td>\n",
       "    </tr>\n",
       "    <tr>\n",
       "      <th>1</th>\n",
       "      <td>21</td>\n",
       "      <td>9600</td>\n",
       "      <td>1000</td>\n",
       "      <td>0</td>\n",
       "      <td>0</td>\n",
       "    </tr>\n",
       "    <tr>\n",
       "      <th>2</th>\n",
       "      <td>25</td>\n",
       "      <td>9600</td>\n",
       "      <td>5500</td>\n",
       "      <td>0</td>\n",
       "      <td>0</td>\n",
       "    </tr>\n",
       "    <tr>\n",
       "      <th>3</th>\n",
       "      <td>23</td>\n",
       "      <td>65500</td>\n",
       "      <td>35000</td>\n",
       "      <td>0</td>\n",
       "      <td>0</td>\n",
       "    </tr>\n",
       "    <tr>\n",
       "      <th>4</th>\n",
       "      <td>24</td>\n",
       "      <td>54400</td>\n",
       "      <td>35000</td>\n",
       "      <td>1</td>\n",
       "      <td>0</td>\n",
       "    </tr>\n",
       "    <tr>\n",
       "      <th>...</th>\n",
       "      <td>...</td>\n",
       "      <td>...</td>\n",
       "      <td>...</td>\n",
       "      <td>...</td>\n",
       "      <td>...</td>\n",
       "    </tr>\n",
       "    <tr>\n",
       "      <th>32576</th>\n",
       "      <td>57</td>\n",
       "      <td>53000</td>\n",
       "      <td>5800</td>\n",
       "      <td>0</td>\n",
       "      <td>0</td>\n",
       "    </tr>\n",
       "    <tr>\n",
       "      <th>32577</th>\n",
       "      <td>54</td>\n",
       "      <td>120000</td>\n",
       "      <td>17625</td>\n",
       "      <td>0</td>\n",
       "      <td>0</td>\n",
       "    </tr>\n",
       "    <tr>\n",
       "      <th>32578</th>\n",
       "      <td>65</td>\n",
       "      <td>76000</td>\n",
       "      <td>35000</td>\n",
       "      <td>0</td>\n",
       "      <td>0</td>\n",
       "    </tr>\n",
       "    <tr>\n",
       "      <th>32579</th>\n",
       "      <td>56</td>\n",
       "      <td>150000</td>\n",
       "      <td>15000</td>\n",
       "      <td>0</td>\n",
       "      <td>0</td>\n",
       "    </tr>\n",
       "    <tr>\n",
       "      <th>32580</th>\n",
       "      <td>66</td>\n",
       "      <td>42000</td>\n",
       "      <td>6475</td>\n",
       "      <td>0</td>\n",
       "      <td>0</td>\n",
       "    </tr>\n",
       "  </tbody>\n",
       "</table>\n",
       "<p>32581 rows × 5 columns</p>\n",
       "</div>"
      ],
      "text/plain": [
       "       age  income   loan default  age_missing\n",
       "0       22   59000  35000       1            0\n",
       "1       21    9600   1000       0            0\n",
       "2       25    9600   5500       0            0\n",
       "3       23   65500  35000       0            0\n",
       "4       24   54400  35000       1            0\n",
       "...    ...     ...    ...     ...          ...\n",
       "32576   57   53000   5800       0            0\n",
       "32577   54  120000  17625       0            0\n",
       "32578   65   76000  35000       0            0\n",
       "32579   56  150000  15000       0            0\n",
       "32580   66   42000   6475       0            0\n",
       "\n",
       "[32581 rows x 5 columns]"
      ]
     },
     "execution_count": 42,
     "metadata": {},
     "output_type": "execute_result"
    }
   ],
   "source": [
    "credit"
   ]
  },
  {
   "cell_type": "code",
   "execution_count": 45,
   "id": "8210fbee",
   "metadata": {},
   "outputs": [
    {
     "data": {
      "text/html": [
       "<div>\n",
       "<style scoped>\n",
       "    .dataframe tbody tr th:only-of-type {\n",
       "        vertical-align: middle;\n",
       "    }\n",
       "\n",
       "    .dataframe tbody tr th {\n",
       "        vertical-align: top;\n",
       "    }\n",
       "\n",
       "    .dataframe thead th {\n",
       "        text-align: right;\n",
       "    }\n",
       "</style>\n",
       "<table border=\"1\" class=\"dataframe\">\n",
       "  <thead>\n",
       "    <tr style=\"text-align: right;\">\n",
       "      <th></th>\n",
       "      <th></th>\n",
       "      <th>income</th>\n",
       "      <th>loan</th>\n",
       "      <th>age_missing</th>\n",
       "    </tr>\n",
       "    <tr>\n",
       "      <th>default</th>\n",
       "      <th>age</th>\n",
       "      <th></th>\n",
       "      <th></th>\n",
       "      <th></th>\n",
       "    </tr>\n",
       "  </thead>\n",
       "  <tbody>\n",
       "    <tr>\n",
       "      <th rowspan=\"5\" valign=\"top\">0</th>\n",
       "      <th>20</th>\n",
       "      <td>12</td>\n",
       "      <td>12</td>\n",
       "      <td>12</td>\n",
       "    </tr>\n",
       "    <tr>\n",
       "      <th>21</th>\n",
       "      <td>1018</td>\n",
       "      <td>1018</td>\n",
       "      <td>1018</td>\n",
       "    </tr>\n",
       "    <tr>\n",
       "      <th>22</th>\n",
       "      <td>2979</td>\n",
       "      <td>2979</td>\n",
       "      <td>2979</td>\n",
       "    </tr>\n",
       "    <tr>\n",
       "      <th>23</th>\n",
       "      <td>3248</td>\n",
       "      <td>3248</td>\n",
       "      <td>3248</td>\n",
       "    </tr>\n",
       "    <tr>\n",
       "      <th>24</th>\n",
       "      <td>2927</td>\n",
       "      <td>2927</td>\n",
       "      <td>2927</td>\n",
       "    </tr>\n",
       "    <tr>\n",
       "      <th>...</th>\n",
       "      <th>...</th>\n",
       "      <td>...</td>\n",
       "      <td>...</td>\n",
       "      <td>...</td>\n",
       "    </tr>\n",
       "    <tr>\n",
       "      <th rowspan=\"5\" valign=\"top\">1</th>\n",
       "      <th>64</th>\n",
       "      <td>2</td>\n",
       "      <td>2</td>\n",
       "      <td>2</td>\n",
       "    </tr>\n",
       "    <tr>\n",
       "      <th>65</th>\n",
       "      <td>2</td>\n",
       "      <td>2</td>\n",
       "      <td>2</td>\n",
       "    </tr>\n",
       "    <tr>\n",
       "      <th>66</th>\n",
       "      <td>4</td>\n",
       "      <td>4</td>\n",
       "      <td>4</td>\n",
       "    </tr>\n",
       "    <tr>\n",
       "      <th>69</th>\n",
       "      <td>2</td>\n",
       "      <td>2</td>\n",
       "      <td>2</td>\n",
       "    </tr>\n",
       "    <tr>\n",
       "      <th>70</th>\n",
       "      <td>2</td>\n",
       "      <td>2</td>\n",
       "      <td>2</td>\n",
       "    </tr>\n",
       "  </tbody>\n",
       "</table>\n",
       "<p>105 rows × 3 columns</p>\n",
       "</div>"
      ],
      "text/plain": [
       "             income  loan  age_missing\n",
       "default age                           \n",
       "0       20       12    12           12\n",
       "        21     1018  1018         1018\n",
       "        22     2979  2979         2979\n",
       "        23     3248  3248         3248\n",
       "        24     2927  2927         2927\n",
       "...             ...   ...          ...\n",
       "1       64        2     2            2\n",
       "        65        2     2            2\n",
       "        66        4     4            4\n",
       "        69        2     2            2\n",
       "        70        2     2            2\n",
       "\n",
       "[105 rows x 3 columns]"
      ]
     },
     "execution_count": 45,
     "metadata": {},
     "output_type": "execute_result"
    }
   ],
   "source": [
    "#print(credit[['Saving_accounts','Checking_account']])\n",
    "credit.groupby(['default','age']).count()"
   ]
  },
  {
   "cell_type": "code",
   "execution_count": 46,
   "id": "ef79099b",
   "metadata": {},
   "outputs": [
    {
     "data": {
      "text/html": [
       "<div>\n",
       "<style scoped>\n",
       "    .dataframe tbody tr th:only-of-type {\n",
       "        vertical-align: middle;\n",
       "    }\n",
       "\n",
       "    .dataframe tbody tr th {\n",
       "        vertical-align: top;\n",
       "    }\n",
       "\n",
       "    .dataframe thead th {\n",
       "        text-align: right;\n",
       "    }\n",
       "</style>\n",
       "<table border=\"1\" class=\"dataframe\">\n",
       "  <thead>\n",
       "    <tr style=\"text-align: right;\">\n",
       "      <th></th>\n",
       "      <th>age</th>\n",
       "      <th>income</th>\n",
       "      <th>loan</th>\n",
       "      <th>age_missing</th>\n",
       "    </tr>\n",
       "  </thead>\n",
       "  <tbody>\n",
       "    <tr>\n",
       "      <th>count</th>\n",
       "      <td>32581.000000</td>\n",
       "      <td>3.258100e+04</td>\n",
       "      <td>32581.000000</td>\n",
       "      <td>32581.0</td>\n",
       "    </tr>\n",
       "    <tr>\n",
       "      <th>mean</th>\n",
       "      <td>27.734600</td>\n",
       "      <td>6.607485e+04</td>\n",
       "      <td>9589.371106</td>\n",
       "      <td>0.0</td>\n",
       "    </tr>\n",
       "    <tr>\n",
       "      <th>std</th>\n",
       "      <td>6.348078</td>\n",
       "      <td>6.198312e+04</td>\n",
       "      <td>6322.086646</td>\n",
       "      <td>0.0</td>\n",
       "    </tr>\n",
       "    <tr>\n",
       "      <th>min</th>\n",
       "      <td>20.000000</td>\n",
       "      <td>4.000000e+03</td>\n",
       "      <td>500.000000</td>\n",
       "      <td>0.0</td>\n",
       "    </tr>\n",
       "    <tr>\n",
       "      <th>25%</th>\n",
       "      <td>23.000000</td>\n",
       "      <td>3.850000e+04</td>\n",
       "      <td>5000.000000</td>\n",
       "      <td>0.0</td>\n",
       "    </tr>\n",
       "    <tr>\n",
       "      <th>50%</th>\n",
       "      <td>26.000000</td>\n",
       "      <td>5.500000e+04</td>\n",
       "      <td>8000.000000</td>\n",
       "      <td>0.0</td>\n",
       "    </tr>\n",
       "    <tr>\n",
       "      <th>75%</th>\n",
       "      <td>30.000000</td>\n",
       "      <td>7.920000e+04</td>\n",
       "      <td>12200.000000</td>\n",
       "      <td>0.0</td>\n",
       "    </tr>\n",
       "    <tr>\n",
       "      <th>max</th>\n",
       "      <td>144.000000</td>\n",
       "      <td>6.000000e+06</td>\n",
       "      <td>35000.000000</td>\n",
       "      <td>0.0</td>\n",
       "    </tr>\n",
       "  </tbody>\n",
       "</table>\n",
       "</div>"
      ],
      "text/plain": [
       "                age        income          loan  age_missing\n",
       "count  32581.000000  3.258100e+04  32581.000000      32581.0\n",
       "mean      27.734600  6.607485e+04   9589.371106          0.0\n",
       "std        6.348078  6.198312e+04   6322.086646          0.0\n",
       "min       20.000000  4.000000e+03    500.000000          0.0\n",
       "25%       23.000000  3.850000e+04   5000.000000          0.0\n",
       "50%       26.000000  5.500000e+04   8000.000000          0.0\n",
       "75%       30.000000  7.920000e+04  12200.000000          0.0\n",
       "max      144.000000  6.000000e+06  35000.000000          0.0"
      ]
     },
     "execution_count": 46,
     "metadata": {},
     "output_type": "execute_result"
    }
   ],
   "source": [
    "credit.describe()"
   ]
  },
  {
   "cell_type": "markdown",
   "id": "88d0f575",
   "metadata": {},
   "source": [
    "### Visualização dos dados"
   ]
  },
  {
   "cell_type": "code",
   "execution_count": 48,
   "id": "70a89a3b",
   "metadata": {},
   "outputs": [
    {
     "data": {
      "text/plain": [
       "(array([0, 1], dtype=object), array([26836,  5745], dtype=int64))"
      ]
     },
     "execution_count": 48,
     "metadata": {},
     "output_type": "execute_result"
    }
   ],
   "source": [
    "np.unique(credit['default'], return_counts=True)"
   ]
  },
  {
   "cell_type": "code",
   "execution_count": 51,
   "id": "b117882c",
   "metadata": {},
   "outputs": [
    {
     "data": {
      "image/png": "[encoded data removed]",
      "text/plain": [
       "<Figure size 432x288 with 1 Axes>"
      ]
     },
     "metadata": {
      "needs_background": "light"
     },
     "output_type": "display_data"
    }
   ],
   "source": [
    "sns.countplot(x = credit['default']);"
   ]
  },
  {
   "cell_type": "code",
   "execution_count": 54,
   "id": "ad43d3cf",
   "metadata": {},
   "outputs": [
    {
     "data": {
      "image/png": "[encoded data removed]",
      "text/plain": [
       "<Figure size 432x288 with 1 Axes>"
      ]
     },
     "metadata": {
      "needs_background": "light"
     },
     "output_type": "display_data"
    }
   ],
   "source": [
    "plt.hist(x = credit['loan']);"
   ]
  },
  {
   "cell_type": "markdown",
   "id": "12170600",
   "metadata": {},
   "source": [
    "### Tratamento de valores inconsistentes"
   ]
  },
  {
   "cell_type": "code",
   "execution_count": 55,
   "id": "3adee2bf",
   "metadata": {},
   "outputs": [
    {
     "data": {
      "text/html": [
       "<div>\n",
       "<style scoped>\n",
       "    .dataframe tbody tr th:only-of-type {\n",
       "        vertical-align: middle;\n",
       "    }\n",
       "\n",
       "    .dataframe tbody tr th {\n",
       "        vertical-align: top;\n",
       "    }\n",
       "\n",
       "    .dataframe thead th {\n",
       "        text-align: right;\n",
       "    }\n",
       "</style>\n",
       "<table border=\"1\" class=\"dataframe\">\n",
       "  <thead>\n",
       "    <tr style=\"text-align: right;\">\n",
       "      <th></th>\n",
       "      <th>age</th>\n",
       "      <th>income</th>\n",
       "      <th>loan</th>\n",
       "      <th>default</th>\n",
       "      <th>age_missing</th>\n",
       "    </tr>\n",
       "  </thead>\n",
       "  <tbody>\n",
       "  </tbody>\n",
       "</table>\n",
       "</div>"
      ],
      "text/plain": [
       "Empty DataFrame\n",
       "Columns: [age, income, loan, default, age_missing]\n",
       "Index: []"
      ]
     },
     "execution_count": 55,
     "metadata": {},
     "output_type": "execute_result"
    }
   ],
   "source": [
    "credit.loc[credit['age'] < 0]"
   ]
  },
  {
   "cell_type": "code",
   "execution_count": 56,
   "id": "4d9134d1",
   "metadata": {},
   "outputs": [
    {
     "data": {
      "text/html": [
       "<div>\n",
       "<style scoped>\n",
       "    .dataframe tbody tr th:only-of-type {\n",
       "        vertical-align: middle;\n",
       "    }\n",
       "\n",
       "    .dataframe tbody tr th {\n",
       "        vertical-align: top;\n",
       "    }\n",
       "\n",
       "    .dataframe thead th {\n",
       "        text-align: right;\n",
       "    }\n",
       "</style>\n",
       "<table border=\"1\" class=\"dataframe\">\n",
       "  <thead>\n",
       "    <tr style=\"text-align: right;\">\n",
       "      <th></th>\n",
       "      <th>age</th>\n",
       "      <th>income</th>\n",
       "      <th>loan</th>\n",
       "      <th>default</th>\n",
       "      <th>age_missing</th>\n",
       "    </tr>\n",
       "  </thead>\n",
       "  <tbody>\n",
       "  </tbody>\n",
       "</table>\n",
       "</div>"
      ],
      "text/plain": [
       "Empty DataFrame\n",
       "Columns: [age, income, loan, default, age_missing]\n",
       "Index: []"
      ]
     },
     "execution_count": 56,
     "metadata": {},
     "output_type": "execute_result"
    }
   ],
   "source": [
    "credit[credit['age'] < 0]"
   ]
  },
  {
   "cell_type": "markdown",
   "id": "3f1de630",
   "metadata": {},
   "source": [
    "### Divisão entre previsores e classe"
   ]
  },
  {
   "cell_type": "code",
   "execution_count": 66,
   "id": "4ae0b05b",
   "metadata": {},
   "outputs": [],
   "source": [
    "X_credit = credit.iloc[:, 0:3].values\n",
    "y_credit = credit.iloc[:, 4].values"
   ]
  },
  {
   "cell_type": "code",
   "execution_count": 67,
   "id": "2dba796b",
   "metadata": {},
   "outputs": [
    {
     "name": "stdout",
     "output_type": "stream",
     "text": [
      "[[    22  59000  35000]\n",
      " [    21   9600   1000]\n",
      " [    25   9600   5500]\n",
      " ...\n",
      " [    65  76000  35000]\n",
      " [    56 150000  15000]\n",
      " [    66  42000   6475]]\n",
      "[0 0 0 ... 0 0 0]\n"
     ]
    }
   ],
   "source": [
    "print(X_credit)\n",
    "print(y_credit)"
   ]
  },
  {
   "cell_type": "markdown",
   "id": "bad2d7f2",
   "metadata": {},
   "source": [
    "### Escalonamento dos valores"
   ]
  },
  {
   "cell_type": "code",
   "execution_count": 69,
   "id": "ff02f18e",
   "metadata": {},
   "outputs": [
    {
     "name": "stdout",
     "output_type": "stream",
     "text": [
      "20 4000 500\n",
      "144 6000000 35000\n"
     ]
    }
   ],
   "source": [
    "print(X_credit[:,0].min(), X_credit[:,1].min(), X_credit[:,2].min())\n",
    "print(X_credit[:,0].max(), X_credit[:,1].max(), X_credit[:,2].max())"
   ]
  },
  {
   "cell_type": "code",
   "execution_count": 70,
   "id": "82da5647",
   "metadata": {},
   "outputs": [],
   "source": [
    "scaler_credit = StandardScaler()\n",
    "X_credit = scaler_credit.fit_transform(X_credit)"
   ]
  },
  {
   "cell_type": "code",
   "execution_count": 71,
   "id": "e107cf2c",
   "metadata": {},
   "outputs": [
    {
     "name": "stdout",
     "output_type": "stream",
     "text": [
      "-1.2184346364593488 -1.0014952772370846 -1.4377390104182448\n",
      "18.315335239135486 95.7360051810824 4.019403764559302\n"
     ]
    }
   ],
   "source": [
    "print(X_credit[:,0].min(), X_credit[:,1].min(), X_credit[:,2].min())\n",
    "print(X_credit[:,0].max(), X_credit[:,1].max(), X_credit[:,2].max())"
   ]
  },
  {
   "cell_type": "code",
   "execution_count": 74,
   "id": "bb7de622",
   "metadata": {},
   "outputs": [],
   "source": [
    "X_credit_treinamento, X_credit_teste, y_credit_treinamento, y_credit_teste = train_test_split(X_credit, y_credit, test_size = 0.25, random_state = 0)"
   ]
  },
  {
   "cell_type": "code",
   "execution_count": 77,
   "id": "10659e82",
   "metadata": {},
   "outputs": [],
   "source": [
    "with open('data/credit.pkl', mode = 'wb') as f:\n",
    "  pickle.dump([X_credit_treinamento, y_credit_treinamento, X_credit_teste, y_credit_teste], f)"
   ]
  },
  {
   "cell_type": "markdown",
   "id": "bf24c6ec",
   "metadata": {},
   "source": [
    "## MODELOS"
   ]
  },
  {
   "cell_type": "code",
   "execution_count": 78,
   "id": "73b66735",
   "metadata": {},
   "outputs": [],
   "source": [
    "from sklearn.naive_bayes import GaussianNB"
   ]
  },
  {
   "cell_type": "code",
   "execution_count": 79,
   "id": "e6144651",
   "metadata": {},
   "outputs": [],
   "source": [
    "with open('data/credit.pkl', 'rb') as f:\n",
    "  X_credit_treinamento, y_credit_treinamento, X_credit_teste, y_credit_teste = pickle.load(f)"
   ]
  },
  {
   "cell_type": "code",
   "execution_count": 80,
   "id": "8825f498",
   "metadata": {},
   "outputs": [
    {
     "data": {
      "text/plain": [
       "GaussianNB()"
      ]
     },
     "execution_count": 80,
     "metadata": {},
     "output_type": "execute_result"
    }
   ],
   "source": [
    "naive_credit_data = GaussianNB()\n",
    "naive_credit_data.fit(X_credit_treinamento, y_credit_treinamento)"
   ]
  },
  {
   "cell_type": "code",
   "execution_count": null,
   "id": "e85e6a28",
   "metadata": {},
   "outputs": [],
   "source": []
  },
  {
   "cell_type": "markdown",
   "id": "496f758b",
   "metadata": {},
   "source": [
    "<a href=\"https://www.kaggle.com/uciml/german-credit\">Fonte da base</a>"
   ]
  }
 ],
 "metadata": {
  "kernelspec": {
   "display_name": "Python 3",
   "language": "python",
   "name": "python3"
  },
  "language_info": {
   "codemirror_mode": {
    "name": "ipython",
    "version": 3
   },
   "file_extension": ".py",
   "mimetype": "text/x-python",
   "name": "python",
   "nbconvert_exporter": "python",
   "pygments_lexer": "ipython3",
   "version": "3.8.8"
  }
 },
 "nbformat": 4,
 "nbformat_minor": 5
}
